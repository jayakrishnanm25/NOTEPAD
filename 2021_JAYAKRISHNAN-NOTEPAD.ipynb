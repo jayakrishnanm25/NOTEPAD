{
 "cells": [
  {
   "cell_type": "code",
   "execution_count": 1,
   "id": "ed7f755c-7b84-496e-9ce0-8f31e1b68271",
   "metadata": {},
   "outputs": [],
   "source": [
    "from tkinter import*\n",
    "from tkinter import filedialog\n",
    "\n",
    "root = Tk()\n",
    "root.geometry(\"600x600\")\n",
    "root.title(\"Notepad\")\n",
    "root.config(bg='lightblue')\n",
    "root.resizable(False,False)\n",
    "\n",
    "def save_file():\n",
    "    open_file=filedialog.asksaveasfile(mode='w', defaultextension='.txt')\n",
    "    if open_file is None:\n",
    "        return\n",
    "    text=str(entry.get(1.0,END))\n",
    "    open_file.write(text)\n",
    "    open_file.close()\n",
    "    \n",
    "\n",
    "def open_file():\n",
    "    file=filedialog.askopenfile(mode='r', filetype=[('text files','*.txt')])\n",
    "    if file is not None:\n",
    "        content=file.read()\n",
    "    entry.insert(INSERT,content)\n",
    "\n",
    "b1= Button(root, width= '20', height='2', bg='#fff', text='save file',command=save_file).place(x=100,y=5)\n",
    "b2= Button(root, width= '20', height='2', bg='#fff', text='open file',command=open_file).place(x=300,y=5)\n",
    "\n",
    "entry=Text(root,height='33', width='72', wrap=WORD)\n",
    "entry.place(x=10, y=60)\n",
    "\n",
    "root.mainloop()\n",
    "\n",
    "\n"
   ]
  },
  {
   "cell_type": "code",
   "execution_count": null,
   "id": "457049d0-ebfc-4af3-a239-d67511712216",
   "metadata": {},
   "outputs": [],
   "source": []
  }
 ],
 "metadata": {
  "kernelspec": {
   "display_name": "Python 3 (ipykernel)",
   "language": "python",
   "name": "python3"
  },
  "language_info": {
   "codemirror_mode": {
    "name": "ipython",
    "version": 3
   },
   "file_extension": ".py",
   "mimetype": "text/x-python",
   "name": "python",
   "nbconvert_exporter": "python",
   "pygments_lexer": "ipython3",
   "version": "3.12.7"
  }
 },
 "nbformat": 4,
 "nbformat_minor": 5
}
